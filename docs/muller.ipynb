{
 "cells": [
  {
   "cell_type": "markdown",
   "metadata": {},
   "source": [
    "# <font color=\"purple\"> MÉTODO DE MULLER </font>"
   ]
  },
  {
   "cell_type": "markdown",
   "metadata": {},
   "source": [
    "## <font color=\"pink\"> Introdução </font>"
   ]
  },
  {
   "cell_type": "markdown",
   "metadata": {},
   "source": [
    "Mesmo que o método da Secante ou o de Newton sejam eficazes para encontrar raízes reais de polinômios, eles falham quando se trata de encontrar raízes complexas. Isso se deve ao fato de que, quando nosso valo inical é real, todas as contas seguinetes também resultarão em números reais, nunca aproximando uma possível raíz complexa.\n",
    "\n",
    "Uma forma de contornar esse problema é, com aritmética complexa, calcular a raíz complexa com um dado inicial com parte imaginária não nula. Outra forma ainda, é utilizando o seguinte Teorema:\n",
    "\n",
    "<font color=\"purple\"> Teorema:</font> Se $z = a + bi$ for um zero complexo de multiplicidade $m$ do polinômio $P(x)$ com coeficientes reais, então $\\overline{z} = a - bi$ também será um zero de multiplicidade $m$ de $P(x)$, e $(x^2-2ax+a^2+b^2)^m$ será um fator de $P(x)$."
   ]
  },
  {
   "cell_type": "markdown",
   "metadata": {},
   "source": [
    "## <font color=\"pink\"> Método </font>"
   ]
  },
  {
   "cell_type": "markdown",
   "metadata": {},
   "source": [
    "Ao invés de utilizar uma reta que liga dois pontos da curva para encontrar uma raíz (como no método da Secante), o método de Muller utilizará uma parábola que liga três pontos da curva para encontrar a aproximação de uma raíz complexa. Ou seja, dado os pontos $(p_0,f(p_0))$, $(p_1,f(p_1))$ e $(p_2,f(p_2))$ pertencentes à curva definida por $f$, determinemos a aproximação subsequente $p_3$ pelo ponto em que a parábola que passa por $(p_0,f(p_0))$, $(p_1,f(p_1))$ e $(p_2,f(p_2))$ toca o eixo $x$.\n",
    "\n",
    "Considere então o polinômio quadrático abaixo:\n",
    "\n",
    "$$P(x) = a(x-p_2)^2+b(x-p_2)+c.$$\n",
    "\n",
    "Determinemos $a$, $b$ e $c$ de maneira que  esse polinômio seja a parábola que intersecte os pontos descritos anteriormente. De maneira analítica, determinamos eles resolvendo o seguinte sistêma linear:\n",
    "\n",
    "$$f(p_0) = a(p_0-p_2)^2+b(p_0-p_2)+c;$$\n",
    "$$f(p_1) = a(p_1-p_2)^2+b(p_1-p_2)+c;$$\n",
    "$$f(p_2) = a(p_2-p_2)^2+b(p_2-p_2)+c = c.$$\n",
    "\n",
    "Portanto,\n",
    "\n",
    "$$c = f(p_2);$$\n",
    "$$b = \\frac{(p_0-p_2)^2[f(p_1)-f(p_2)]-(p_1-p_2)^2[f(p_0)-f(p_2)]}{(p_0-p_2)(p_1-p_2)(p_0-p_1)};$$\n",
    "$$a = \\frac{(p_1-p_2)[f(p_0)-f(p_2)]-(p_0-p_2[f(p_1)-f(p_2)])}{(p_0-p_2)(p_1-p_2)(p_0-p_1)}.$$\n",
    "\n",
    "Agora, para determinar $p_3$(zero de $P$), basta aplicar a fórmula quadrática modificada (aquela vista em aula que minimiza o erro de arredondamento causado pela subtração de números próximos) à $P(x) = 0$. Destre os dois possíveis valores dados por essa fórmula, o método de Muller escolhe aquele em que o sinal da raíz concorda com o sinal de $b$, uma vez que isso faz com que o denominador seja o de maior módulo entre as opções e, portanto, é o zero de $P$ mais próximo de $p_2$.\n",
    "\n",
    "$$p_3-p_2 = \\frac{-2c}{b\\pm \\sqrt{b^2-4ac}} \\Longrightarrow p_3 = p_2 - \\frac{2c}{b+sgn(b)\\sqrt{b^2-4ac}}$$\n",
    "\n",
    "em que $a$, $b$ e $c$ foram dados pelas expressões anteriores.\n",
    "\n",
    "Uma vez que $p_3$ foi calculado, repetimos o processo para os valores $p_1$, $p_2$ e $p_3$ no lugares de $p_0$, $p_1$ e $p_2$ (respectivamente), obtendo o ponto $p_4$. O procedimento continua até que u  número de iterações seja atingido ou até que encontremos uma aproximação para a raíz dentro de uma certa tolerância. Note que durante o método, calculamos aproximações para a raiz complexa do radical $\\sqrt{b^2-4ac}$ (quando $b^2-4ac<0$)."
   ]
  },
  {
   "cell_type": "markdown",
   "metadata": {},
   "source": [
    "## <font color=\"pink\"> Algorítmo </font>"
   ]
  },
  {
   "cell_type": "markdown",
   "metadata": {},
   "source": [
    "INPUT: $p_0$, $p_1$, $p_2$, $\\tau$ tolerância e $N$ número máximo de iterações.\n",
    "\n",
    "OUTPUT: Solução aproximada $p$ ou mensagem de erro."
   ]
  },
  {
   "cell_type": "markdown",
   "metadata": {},
   "source": [
    "STEP 1: \n",
    "\n",
    "$h_1=p_1-p_0$\n",
    "\n",
    "$h_2=p_2-p_1$\n",
    "        \n",
    "$\\delta_1=(f(p_1)-f(p_0)/h_1)$\n",
    "\n",
    "$\\delta_2=(f(p_2)-f(p_1)/h_2)$\n",
    "\n",
    "$d=(\\delta_2-\\delta_1)/(h_2+h_1)$\n",
    "\n",
    "$i=3$\n",
    "        \n",
    "STEP 2: if $i\\le N$, then do STEPS 3-7\n",
    "\n",
    "STEP 3:\n",
    "\n",
    "$b=\\delta_2+h_2 d$\n",
    "\n",
    "$D=(b^2-4f(p_2)d)^{1/2}$ Obs: aritmética complexa pode ser necessária\n",
    "\n",
    "STEP 4: if $|b-D|<|b+D|$\n",
    "\n",
    "$E=b+D$\n",
    "\n",
    "else $E=b-D$\n",
    "\n",
    "STEP 5: \n",
    "\n",
    "$h=-2f(p_2)/E$\n",
    "\n",
    "$p=p_2+h$\n",
    "\n",
    "STEP 6:\n",
    "\n",
    "if $|h|<\\tau$\n",
    "\n",
    "OUtPUT($p$)\n",
    "\n",
    "STOP\n",
    "\n",
    "STEP 7:\n",
    "\n",
    "$p_0=p_1$\n",
    "\n",
    "$p_2=p$\n",
    "\n",
    "$h_1=p_1-p_0$\n",
    "\n",
    "$h_2=p_2-p_1$\n",
    "\n",
    "$\\delta_1=(f(p_1)-f(p_0)/h_1)$\n",
    "\n",
    "$\\delta_2=(f(p_2)-f(p_1)/h_2)$\n",
    "\n",
    "$d=(\\delta_2-\\delta_1)/(h_2+h_1)$\n",
    "\n",
    "$i=i+1$\n",
    "\n",
    "STEP 8:\n",
    "\n",
    "OUTPUT(\"Método falhou\")\n",
    "\n",
    "STOP"
   ]
  },
  {
   "cell_type": "markdown",
   "metadata": {},
   "source": [
    "Analogamente, em júlia, segue o método abaixo:"
   ]
  },
  {
   "cell_type": "code",
   "execution_count": 6,
   "metadata": {},
   "outputs": [
    {
     "data": {
      "text/plain": [
       "muller (generic function with 1 method)"
      ]
     },
     "metadata": {},
     "output_type": "display_data"
    }
   ],
   "source": [
    "function muller(f::Function,p_0::Float64,p_1::Float64,p_2::Float64,τ::Float64,N::Int64)\n",
    "\n",
    "    #STEP 1\n",
    "\n",
    "    h_1=p_1-p_0\n",
    "    h_2=p_2-p_1\n",
    "    δ_1=(f(p_1)-f(p_0)/h_1)\n",
    "    δ_2=(f(p_2)-f(p_1)/h_2)\n",
    "    d=(δ_2-δ_1)/(h_2+h_1)\n",
    "    i=3\n",
    "\n",
    "    #STEP 2\n",
    "\n",
    "    if i < N #do STEPS 3-7\n",
    "\n",
    "        #STEP 3\n",
    "\n",
    "        b=δ_2+h_2*d\n",
    "        D=sqrt(b^2-4*f(p_2)d) #Obs: aritmética complexa pode ser necessária\n",
    "        \n",
    "        #STEP 4\n",
    "\n",
    "        if abs(b-D)<abs(b+D)\n",
    "            E=b+D\n",
    "        else \n",
    "            E=b-D\n",
    "        end\n",
    "\n",
    "        #STEP 5\n",
    "\n",
    "        h=-2*f(p_2)/E\n",
    "        p=p_2+h\n",
    "\n",
    "        #STEP 6\n",
    "\n",
    "        if abs(h)<τ\n",
    "            return(p)\n",
    "        end\n",
    "\n",
    "        #STEP 7\n",
    "\n",
    "        p_0=p_1\n",
    "        p_2=p\n",
    "        h_1=p_1-p_0\n",
    "        h_2=p_2-p_1\n",
    "        δ_1=(f(p_1)-f(p_0)/h_1)\n",
    "        δ_2=(f(p_2)-f(p_1)/h_2)\n",
    "        d=(δ_2-δ_1)/(h_2+h_1)\n",
    "        i=i+1\n",
    "    end\n",
    "\n",
    "#STEP 8\n",
    "\n",
    "return(\"Método falhou\")\n",
    "\n",
    "end"
   ]
  }
 ],
 "metadata": {
  "kernelspec": {
   "display_name": "Julia 1.10.2",
   "language": "julia",
   "name": "julia-1.10"
  },
  "language_info": {
   "file_extension": ".jl",
   "mimetype": "application/julia",
   "name": "julia",
   "version": "1.10.2"
  }
 },
 "nbformat": 4,
 "nbformat_minor": 2
}
