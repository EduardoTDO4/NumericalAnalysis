{
 "cells": [
  {
   "cell_type": "code",
   "execution_count": 2,
   "metadata": {},
   "outputs": [],
   "source": [
    "using NumericalAnalysis: round_sum, round_mul, trunc_sum, trunc_mul, absolute_error, relative_error, approximated_value_interval_given_relative_error"
   ]
  },
  {
   "cell_type": "markdown",
   "metadata": {},
   "source": [
    "## <font color=\"purple\"> LECTURE 1 - SOLUTIONS  </font>"
   ]
  },
  {
   "cell_type": "markdown",
   "metadata": {},
   "source": [
    "# <font color=\"pink\"> Exercise 3 </font>"
   ]
  },
  {
   "cell_type": "markdown",
   "metadata": {},
   "source": [
    "<font color=\"pink\"> a) </font> $x = π$ and $x^{*} = 22 / 7$ $\\newline$"
   ]
  },
  {
   "cell_type": "code",
   "execution_count": 3,
   "metadata": {},
   "outputs": [
    {
     "data": {
      "text/plain": [
       "0.0012644892673496777"
      ]
     },
     "metadata": {},
     "output_type": "display_data"
    }
   ],
   "source": [
    "#Questão 3a\n",
    "valor = Float64(pi)\n",
    "valor_aproximado = 22 / 7\n",
    "expressao_questao_3a = absolute_error(valor, valor_aproximado)\n",
    "reposta_questao_3a =  0.0012644892673496777"
   ]
  },
  {
   "cell_type": "markdown",
   "metadata": {},
   "source": [
    "<font color=\"pink\"> b) </font> $x = π$ and $x^{*} = 3.1415$ $\\newline$"
   ]
  },
  {
   "cell_type": "code",
   "execution_count": 7,
   "metadata": {},
   "outputs": [
    {
     "data": {
      "text/plain": [
       "9.265358979293481e-5"
      ]
     },
     "metadata": {},
     "output_type": "display_data"
    }
   ],
   "source": [
    "#Questão 3b\n",
    "valor = Float64(pi)\n",
    "valor_aproximado = 3.1415\n",
    "expressao_questao_3b = absolute_error(valor, valor_aproximado)\n",
    "reposta_questao_3b =  9.265358979293481e-5"
   ]
  },
  {
   "cell_type": "markdown",
   "metadata": {},
   "source": [
    "# <font color=\"pink\"> Exercise 4 </font>"
   ]
  },
  {
   "cell_type": "markdown",
   "metadata": {},
   "source": [
    "<font color=\"pink\"> a) </font> 7!"
   ]
  },
  {
   "cell_type": "code",
   "execution_count": 8,
   "metadata": {},
   "outputs": [
    {
     "data": {
      "text/plain": [
       "0.011826223886416323"
      ]
     },
     "metadata": {},
     "output_type": "display_data"
    }
   ],
   "source": [
    "#Questão 4a\n",
    "valor = Float64(factorial(7))\n",
    "valor_aproximado = sqrt(2*Float64(pi)*7)*(7/ℯ)^7\n",
    "expressao_questao_4a = relative_error(valor, valor_aproximado)\n",
    "reposta_questao_4a =  0.011826223886416323"
   ]
  },
  {
   "cell_type": "markdown",
   "metadata": {},
   "source": [
    "<font color=\"pink\"> b) </font> 20!"
   ]
  },
  {
   "cell_type": "code",
   "execution_count": 9,
   "metadata": {},
   "outputs": [
    {
     "data": {
      "text/plain": [
       "0.0041576526228797"
      ]
     },
     "metadata": {},
     "output_type": "display_data"
    }
   ],
   "source": [
    "#Questão 4b\n",
    "valor = Float64(factorial(20))\n",
    "valor_aproximado = sqrt(2*Float64(pi)*20)*(20/ℯ)^20\n",
    "expressao_questao_4b = relative_error(valor, valor_aproximado)\n",
    "reposta_questao_4b =  0.0041576526228797"
   ]
  },
  {
   "cell_type": "markdown",
   "metadata": {},
   "source": [
    "# <font color=\"pink\"> Exercise 5 </font>"
   ]
  },
  {
   "cell_type": "markdown",
   "metadata": {},
   "source": [
    "<font color=\"pink\"> a) </font> $x = 10, \\, \\tau = 10^{-3}$ $\\newline$"
   ]
  },
  {
   "cell_type": "code",
   "execution_count": 16,
   "metadata": {},
   "outputs": [
    {
     "data": {
      "text/plain": [
       "(9.99, 10.01)"
      ]
     },
     "metadata": {},
     "output_type": "display_data"
    }
   ],
   "source": [
    "#Questão 5a\n",
    "valor = Float64(10)\n",
    "erro_relativo = 10^(-3)\n",
    "expressao_questao_5a = approximated_value_interval_given_relative_error(valor, erro_relativo)\n",
    "reposta_questao_5a =  (9.99, 10.01)"
   ]
  },
  {
   "cell_type": "markdown",
   "metadata": {},
   "source": [
    "<font color=\"pink\"> b) </font> $x = 100, \\, \\tau = 10^{-3}$ $\\newline$"
   ]
  },
  {
   "cell_type": "code",
   "execution_count": 17,
   "metadata": {},
   "outputs": [
    {
     "data": {
      "text/plain": [
       "(99.9, 100.1)"
      ]
     },
     "metadata": {},
     "output_type": "display_data"
    }
   ],
   "source": [
    "#Questão 5b\n",
    "valor = Float64(100)\n",
    "erro_relativo = 10^(-3)\n",
    "expressao_questao_5b = approximated_value_interval_given_relative_error(valor, erro_relativo)\n",
    "reposta_questao_5b =  (99.9, 100.1)"
   ]
  },
  {
   "cell_type": "markdown",
   "metadata": {},
   "source": [
    "<font color=\"pink\"> c) </font> $x = -50, \\, \\tau = 10^{-3}$ $\\newline$"
   ]
  },
  {
   "cell_type": "code",
   "execution_count": 18,
   "metadata": {},
   "outputs": [
    {
     "data": {
      "text/plain": [
       "(-50.05, -49.95)"
      ]
     },
     "metadata": {},
     "output_type": "display_data"
    }
   ],
   "source": [
    "#Questão 5c\n",
    "valor = Float64(-50)\n",
    "erro_relativo = 10^(-3)\n",
    "expressao_questao_5c = approximated_value_interval_given_relative_error(valor, erro_relativo)\n",
    "reposta_questao_5c =  (-50.05, -49.95)"
   ]
  },
  {
   "cell_type": "markdown",
   "metadata": {},
   "source": [
    "<font color=\"pink\"> d) </font> $x = 10, \\, \\tau = 10^{-4}$ $\\newline$"
   ]
  },
  {
   "cell_type": "code",
   "execution_count": 19,
   "metadata": {},
   "outputs": [
    {
     "data": {
      "text/plain": [
       "(9.999, 10.001)"
      ]
     },
     "metadata": {},
     "output_type": "display_data"
    }
   ],
   "source": [
    "#Questão 5d\n",
    "valor = Float64(10)\n",
    "erro_relativo = 10^(-4)\n",
    "expressao_questao_5d = approximated_value_interval_given_relative_error(valor, erro_relativo)\n",
    "reposta_questao_5d =  (9.999, 10.001)"
   ]
  },
  {
   "cell_type": "markdown",
   "metadata": {},
   "source": [
    "<font color=\"pink\"> e) </font> $x = 100, \\, \\tau = 10^{-4}$ $\\newline$"
   ]
  },
  {
   "cell_type": "code",
   "execution_count": 20,
   "metadata": {},
   "outputs": [
    {
     "data": {
      "text/plain": [
       "(99.99, 100.01)"
      ]
     },
     "metadata": {},
     "output_type": "display_data"
    }
   ],
   "source": [
    "#Questão 5e\n",
    "valor = Float64(100)\n",
    "erro_relativo = 10^(-4)\n",
    "expressao_questao_5e = approximated_value_interval_given_relative_error(valor, erro_relativo)\n",
    "reposta_questao_5e =  (99.99, 100.01)"
   ]
  },
  {
   "cell_type": "markdown",
   "metadata": {},
   "source": [
    "<font color=\"pink\"> f) </font> $x = -50, \\, \\tau = 10^{-4}.$"
   ]
  },
  {
   "cell_type": "code",
   "execution_count": 22,
   "metadata": {},
   "outputs": [
    {
     "data": {
      "text/plain": [
       "(-50.005, -49.995)"
      ]
     },
     "metadata": {},
     "output_type": "display_data"
    }
   ],
   "source": [
    "#Questão 5f\n",
    "valor = Float64(-50)\n",
    "erro_relativo = 10^(-4)\n",
    "expressao_questao_5f = approximated_value_interval_given_relative_error(valor, erro_relativo)\n",
    "reposta_questao_5f =  (-50.005, -49.995)"
   ]
  },
  {
   "cell_type": "markdown",
   "metadata": {},
   "source": [
    "# <font color=\"pink\"> Exercise 6 </font>"
   ]
  },
  {
   "cell_type": "markdown",
   "metadata": {},
   "source": [
    "<font color=\"pink\"> Truncamento </font>"
   ]
  },
  {
   "cell_type": "markdown",
   "metadata": {},
   "source": [
    "<font color=\"pink\"> -> </font> Erro absoluto"
   ]
  },
  {
   "cell_type": "code",
   "execution_count": 24,
   "metadata": {},
   "outputs": [
    {
     "data": {
      "text/plain": [
       "0.000489860713978274"
      ]
     },
     "metadata": {},
     "output_type": "display_data"
    }
   ],
   "source": [
    "#Questão 6 - Truncamento Erro Absoluto\n",
    "valor = ((13/14)+(-6)/7)/(2*ℯ-5.4)\n",
    "valor_aproximado = trunc(trunc_sum(13/14,(-6)/7,digits=5)/trunc_sum(2*ℯ,(-5.4),digits=5),digits=5)\n",
    "expressao_questao_5tea = absolute_error(valor, valor_aproximado)\n",
    "reposta_questao_6tea =  0.000489860713978274"
   ]
  },
  {
   "cell_type": "markdown",
   "metadata": {},
   "source": [
    "<font color=\"pink\"> -> </font> Erro relativo"
   ]
  },
  {
   "cell_type": "code",
   "execution_count": 25,
   "metadata": {},
   "outputs": [
    {
     "data": {
      "text/plain": [
       "0.0002507553871697297"
      ]
     },
     "metadata": {},
     "output_type": "display_data"
    }
   ],
   "source": [
    "#Questão 6 - Truncamento Erro Relativo\n",
    "valor = ((13/14)+(-6)/7)/(2*ℯ-5.4)\n",
    "valor_aproximado = trunc(trunc_sum(13/14,(-6)/7,digits=5)/trunc_sum(2*ℯ,(-5.4),digits=5),digits=5)\n",
    "expressao_questao_5ter = relative_error(valor, valor_aproximado)\n",
    "reposta_questao_6ter =  0.0002507553871697297"
   ]
  },
  {
   "cell_type": "markdown",
   "metadata": {},
   "source": [
    "<font color=\"pink\"> Arredondamento </font>"
   ]
  },
  {
   "cell_type": "markdown",
   "metadata": {},
   "source": [
    "<font color=\"pink\"> -> </font> Erro absoluto"
   ]
  },
  {
   "cell_type": "code",
   "execution_count": 27,
   "metadata": {},
   "outputs": [
    {
     "data": {
      "text/plain": [
       "0.00022986071397834706"
      ]
     },
     "metadata": {},
     "output_type": "display_data"
    }
   ],
   "source": [
    "#Questão 6 - Arredondamento Erro Absoluto\n",
    "valor = ((13/14)+(-6)/7)/(2*ℯ-5.4)\n",
    "valor_aproximado = round(round_sum(13/14,(-6)/7,digits=5)/round_sum(2*ℯ,(-5.4),digits=5),digits=5)\n",
    "expressao_questao_5aea = absolute_error(valor, valor_aproximado)\n",
    "reposta_questao_6aea =  0.00022986071397834706"
   ]
  },
  {
   "cell_type": "markdown",
   "metadata": {},
   "source": [
    "<font color=\"pink\"> -> </font> Erro relativo"
   ]
  },
  {
   "cell_type": "code",
   "execution_count": 28,
   "metadata": {},
   "outputs": [
    {
     "data": {
      "text/plain": [
       "0.00011766367598792026"
      ]
     },
     "metadata": {},
     "output_type": "display_data"
    }
   ],
   "source": [
    "#Questão 6 - Arredondamento Erro Relativo\n",
    "valor = ((13/14)+(-6)/7)/(2*ℯ-5.4)\n",
    "valor_aproximado = round(round_sum(13/14,(-6)/7,digits=5)/round_sum(2*ℯ,(-5.4),digits=5),digits=5)\n",
    "expressao_questao_5aer = relative_error(valor, valor_aproximado)\n",
    "reposta_questao_6aer =  0.00011766367598792026"
   ]
  }
 ],
 "metadata": {
  "kernelspec": {
   "display_name": "Julia 1.10.2",
   "language": "julia",
   "name": "julia-1.10"
  },
  "language_info": {
   "file_extension": ".jl",
   "mimetype": "application/julia",
   "name": "julia",
   "version": "1.10.2"
  }
 },
 "nbformat": 4,
 "nbformat_minor": 2
}
